{
 "cells": [
  {
   "cell_type": "code",
   "execution_count": null,
   "metadata": {
    "executionInfo": {
     "elapsed": 25,
     "status": "ok",
     "timestamp": 1755137848587,
     "user": {
      "displayName": "Josue Ortega",
      "userId": "07332620974527869327"
     },
     "user_tz": 360
    },
    "id": "vVHzQJIvu34Z"
   },
   "outputs": [
    {
     "ename": "",
     "evalue": "",
     "output_type": "error",
     "traceback": [
      "\u001b[1;31mRunning cells with 'Python' requires the ipykernel package.\n",
      "\u001b[1;31mInstall 'ipykernel' into the Python environment. \n",
      "\u001b[1;31mCommand: '/usr/bin/python -m pip install ipykernel -U --user --force-reinstall'"
     ]
    }
   ],
   "source": [
    "import pandas as pd\n",
    "import numpy as np\n",
    "from sklearn.preprocessing import StandardScaler\n",
    "from sklearn.model_selection import train_test_split\n",
    "from sklearn.neighbors import KNeighborsClassifier\n",
    "from sklearn.metrics import classification_report\n",
    "from sklearn.model_selection import RepeatedStratifiedKFold\n",
    "from sklearn.model_selection import GridSearchCV\n",
    "from sklearn.preprocessing import StandardScaler"
   ]
  },
  {
   "cell_type": "markdown",
   "metadata": {
    "id": "qVByY93CW9_4"
   },
   "source": [
    "Estandarizacion (evitando leakage information)"
   ]
  },
  {
   "cell_type": "code",
   "execution_count": null,
   "metadata": {
    "executionInfo": {
     "elapsed": 36,
     "status": "ok",
     "timestamp": 1755137848616,
     "user": {
      "displayName": "Josue Ortega",
      "userId": "07332620974527869327"
     },
     "user_tz": 360
    },
    "id": "4ed8awp1U4qW"
   },
   "outputs": [],
   "source": [
    "def scaler(X_train_, X_test_, nums):\n",
    "  X_train = X_train_.copy()\n",
    "  X_test = X_test_.copy()\n",
    "  scaler = StandardScaler()\n",
    "  # Train\n",
    "  X_train_scaled = pd.DataFrame(\n",
    "             scaler.fit_transform(X_train[nums]),\n",
    "             columns=scaler.get_feature_names_out(),\n",
    "             index = X_train.index)\n",
    "  X_train_scaled = X_train_scaled.join(X_train[list(set(X_train.columns)  - set(nums))])\n",
    "  # Test\n",
    "  X_test_scaled = pd.DataFrame(\n",
    "      scaler.transform(X_test[nums]),\n",
    "      columns = scaler.get_feature_names_out(),\n",
    "      index = X_test.index)\n",
    "  X_test_scaled = X_test_scaled.join(X_test[list(set(X_test.columns)  - set(nums))])\n",
    "  X_test_scaled = X_test_scaled[X_train_scaled.columns]\n",
    "  return X_train_scaled, X_test_scaled"
   ]
  },
  {
   "cell_type": "code",
   "execution_count": null,
   "metadata": {
    "executionInfo": {
     "elapsed": 6,
     "status": "ok",
     "timestamp": 1755137848625,
     "user": {
      "displayName": "Josue Ortega",
      "userId": "07332620974527869327"
     },
     "user_tz": 360
    },
    "id": "LNLOzqtq2yEp"
   },
   "outputs": [],
   "source": [
    "# Task:\n",
    "# Build the GRID and write about the results"
   ]
  },
  {
   "cell_type": "code",
   "execution_count": null,
   "metadata": {
    "executionInfo": {
     "elapsed": 48,
     "status": "ok",
     "timestamp": 1755137848677,
     "user": {
      "displayName": "Josue Ortega",
      "userId": "07332620974527869327"
     },
     "user_tz": 360
    },
    "id": "wB_oe-Xru8cA"
   },
   "outputs": [],
   "source": [
    "df = pd.read_csv(\"https://raw.githubusercontent.com/4GeeksAcademy/k-nearest-neighbors-project-tutorial/refs/heads/main/winequality-red.csv\", sep=';')"
   ]
  },
  {
   "cell_type": "code",
   "execution_count": null,
   "metadata": {
    "executionInfo": {
     "elapsed": 12,
     "status": "ok",
     "timestamp": 1755137848716,
     "user": {
      "displayName": "Josue Ortega",
      "userId": "07332620974527869327"
     },
     "user_tz": 360
    },
    "id": "KXSsrlOeFl8a"
   },
   "outputs": [],
   "source": [
    "df['aceptable']  = np.where(df['quality']>=6,1,0)"
   ]
  },
  {
   "cell_type": "code",
   "execution_count": null,
   "metadata": {
    "colab": {
     "base_uri": "https://localhost:8080/",
     "height": 178
    },
    "executionInfo": {
     "elapsed": 15,
     "status": "ok",
     "timestamp": 1755137848733,
     "user": {
      "displayName": "Josue Ortega",
      "userId": "07332620974527869327"
     },
     "user_tz": 360
    },
    "id": "aFs1IVYAF19K",
    "outputId": "a6481829-c782-4484-e63b-afc33175c4ab"
   },
   "outputs": [],
   "source": [
    "df['aceptable'].value_counts()"
   ]
  },
  {
   "cell_type": "code",
   "execution_count": null,
   "metadata": {
    "colab": {
     "base_uri": "https://localhost:8080/"
    },
    "executionInfo": {
     "elapsed": 18,
     "status": "ok",
     "timestamp": 1755137848755,
     "user": {
      "displayName": "Josue Ortega",
      "userId": "07332620974527869327"
     },
     "user_tz": 360
    },
    "id": "iLG4UHkjvBqK",
    "outputId": "e26520ec-2dd5-4389-e140-594f51fbef21"
   },
   "outputs": [],
   "source": [
    "df['quality'].unique()"
   ]
  },
  {
   "cell_type": "code",
   "execution_count": null,
   "metadata": {
    "executionInfo": {
     "elapsed": 68,
     "status": "ok",
     "timestamp": 1755137848829,
     "user": {
      "displayName": "Josue Ortega",
      "userId": "07332620974527869327"
     },
     "user_tz": 360
    },
    "id": "8izIlT1yvdIt"
   },
   "outputs": [],
   "source": [
    "target = 'quality'\n",
    "X,y =  df.drop(columns=[target , 'aceptable']) , df['aceptable'] # change target to noral"
   ]
  },
  {
   "cell_type": "code",
   "execution_count": null,
   "metadata": {
    "colab": {
     "base_uri": "https://localhost:8080/",
     "height": 36
    },
    "executionInfo": {
     "elapsed": 68,
     "status": "ok",
     "timestamp": 1755137848831,
     "user": {
      "displayName": "Josue Ortega",
      "userId": "07332620974527869327"
     },
     "user_tz": 360
    },
    "id": "maWf8p22GNIe",
    "outputId": "1d697e39-d457-4a40-84bc-9040ce62ae78"
   },
   "outputs": [],
   "source": [
    "target"
   ]
  },
  {
   "cell_type": "code",
   "execution_count": null,
   "metadata": {
    "executionInfo": {
     "elapsed": 62,
     "status": "ok",
     "timestamp": 1755137848832,
     "user": {
      "displayName": "Josue Ortega",
      "userId": "07332620974527869327"
     },
     "user_tz": 360
    },
    "id": "QrUpoXrqwKNa"
   },
   "outputs": [],
   "source": [
    "X_train, X_test, y_train, y_test = train_test_split(X,y, test_size=0.2,\n",
    "                                                    stratify=y, random_state=123)"
   ]
  },
  {
   "cell_type": "code",
   "execution_count": null,
   "metadata": {
    "executionInfo": {
     "elapsed": 56,
     "status": "ok",
     "timestamp": 1755137848835,
     "user": {
      "displayName": "Josue Ortega",
      "userId": "07332620974527869327"
     },
     "user_tz": 360
    },
    "id": "yEl6tuK7T7iG"
   },
   "outputs": [],
   "source": [
    "X_train, X_test= scaler(X_train, X_test, X.columns)"
   ]
  },
  {
   "cell_type": "code",
   "execution_count": null,
   "metadata": {
    "executionInfo": {
     "elapsed": 55,
     "status": "ok",
     "timestamp": 1755137848839,
     "user": {
      "displayName": "Josue Ortega",
      "userId": "07332620974527869327"
     },
     "user_tz": 360
    },
    "id": "JUG2p7vTwc3O"
   },
   "outputs": [],
   "source": [
    "robot = KNeighborsClassifier(n_neighbors=10)"
   ]
  },
  {
   "cell_type": "code",
   "execution_count": null,
   "metadata": {
    "colab": {
     "base_uri": "https://localhost:8080/",
     "height": 80
    },
    "executionInfo": {
     "elapsed": 52,
     "status": "ok",
     "timestamp": 1755137848848,
     "user": {
      "displayName": "Josue Ortega",
      "userId": "07332620974527869327"
     },
     "user_tz": 360
    },
    "id": "4GHezXX-wl8q",
    "outputId": "5c209537-2249-4e90-823a-e10f468b085f"
   },
   "outputs": [],
   "source": [
    "robot.fit(X_train, y_train)"
   ]
  },
  {
   "cell_type": "code",
   "execution_count": null,
   "metadata": {
    "executionInfo": {
     "elapsed": 50,
     "status": "ok",
     "timestamp": 1755137848902,
     "user": {
      "displayName": "Josue Ortega",
      "userId": "07332620974527869327"
     },
     "user_tz": 360
    },
    "id": "lfRYV5D2wqvx"
   },
   "outputs": [],
   "source": [
    "preds  = robot.predict(X_test)"
   ]
  },
  {
   "cell_type": "code",
   "execution_count": null,
   "metadata": {
    "colab": {
     "base_uri": "https://localhost:8080/"
    },
    "executionInfo": {
     "elapsed": 46,
     "status": "ok",
     "timestamp": 1755137848903,
     "user": {
      "displayName": "Josue Ortega",
      "userId": "07332620974527869327"
     },
     "user_tz": 360
    },
    "id": "pcdlzbwnwvuD",
    "outputId": "97629e9e-5f47-4093-b6b7-c751df898fcf"
   },
   "outputs": [],
   "source": [
    "print(classification_report(y_test, preds))"
   ]
  },
  {
   "cell_type": "code",
   "execution_count": null,
   "metadata": {
    "executionInfo": {
     "elapsed": 14,
     "status": "ok",
     "timestamp": 1755137848906,
     "user": {
      "displayName": "Josue Ortega",
      "userId": "07332620974527869327"
     },
     "user_tz": 360
    },
    "id": "f695Adk0Kap-"
   },
   "outputs": [],
   "source": [
    "def knn(X_train, y_train):\n",
    "    model = KNeighborsClassifier()\n",
    "    n_neighbors=[3,4,5,6,7,8,9, 10, 13, 21, 23, 24, 25, 30]\n",
    "    weights=['uniform', 'distance']\n",
    "    penalty = ['l2','l1']\n",
    "    grid = dict(n_neighbors=n_neighbors, weights=weights)\n",
    "    cv = RepeatedStratifiedKFold(n_splits=5, n_repeats=3, random_state=1)\n",
    "    grid_search = GridSearchCV(estimator=model, param_grid=grid, n_jobs=-1, cv=cv,\n",
    "                           scoring='f1',error_score='raise')\n",
    "    grid_result = grid_search.fit(X_train, y_train)\n",
    "    return  grid_result.best_estimator_"
   ]
  },
  {
   "cell_type": "code",
   "execution_count": null,
   "metadata": {
    "executionInfo": {
     "elapsed": 4324,
     "status": "ok",
     "timestamp": 1755137853223,
     "user": {
      "displayName": "Josue Ortega",
      "userId": "07332620974527869327"
     },
     "user_tz": 360
    },
    "id": "MQMsbS_ZK6f_"
   },
   "outputs": [],
   "source": [
    "model_knn = knn(X_train, y_train)"
   ]
  },
  {
   "cell_type": "code",
   "execution_count": null,
   "metadata": {
    "executionInfo": {
     "elapsed": 11,
     "status": "ok",
     "timestamp": 1755137853228,
     "user": {
      "displayName": "Josue Ortega",
      "userId": "07332620974527869327"
     },
     "user_tz": 360
    },
    "id": "cZOiKC45LD8C"
   },
   "outputs": [],
   "source": [
    "y_pred = model_knn.predict(X_test)"
   ]
  },
  {
   "cell_type": "code",
   "execution_count": null,
   "metadata": {
    "colab": {
     "base_uri": "https://localhost:8080/"
    },
    "executionInfo": {
     "elapsed": 13,
     "status": "ok",
     "timestamp": 1755137853244,
     "user": {
      "displayName": "Josue Ortega",
      "userId": "07332620974527869327"
     },
     "user_tz": 360
    },
    "id": "rTTYx0LuLKhD",
    "outputId": "6c3b588d-2511-4269-961b-78dcd56d5827"
   },
   "outputs": [],
   "source": [
    "print(classification_report(y_test, y_pred))"
   ]
  },
  {
   "cell_type": "code",
   "execution_count": null,
   "metadata": {
    "colab": {
     "base_uri": "https://localhost:8080/",
     "height": 80
    },
    "executionInfo": {
     "elapsed": 65,
     "status": "ok",
     "timestamp": 1755137853311,
     "user": {
      "displayName": "Josue Ortega",
      "userId": "07332620974527869327"
     },
     "user_tz": 360
    },
    "id": "sqIE591RMA1t",
    "outputId": "f9f2e309-7b4d-4621-bd54-fcd8f9fc3951"
   },
   "outputs": [],
   "source": [
    "model_knn"
   ]
  }
 ],
 "metadata": {
  "colab": {
   "provenance": [
    {
     "file_id": "1xk-6G_6fnb6oXum5RpSNP715dB_x9Z2w",
     "timestamp": 1754967284946
    }
   ]
  },
  "kernelspec": {
   "display_name": "Python 3",
   "language": "python",
   "name": "python3"
  },
  "language_info": {
   "name": "python",
   "version": "3.12.11"
  }
 },
 "nbformat": 4,
 "nbformat_minor": 0
}
